{
 "cells": [
  {
   "cell_type": "code",
   "execution_count": 48,
   "metadata": {},
   "outputs": [],
   "source": [
    "import pandas as pd\n",
    "import numpy as np\n",
    "import matplotlib.pyplot as plt\n",
    "import seaborn as sns\n",
    "%matplotlib inline\n",
    "pd.set_option('display.max_columns',None)"
   ]
  },
  {
   "cell_type": "code",
   "execution_count": 49,
   "metadata": {},
   "outputs": [],
   "source": [
    "df= pd.read_csv('USA_Housing.csv')"
   ]
  },
  {
   "cell_type": "code",
   "execution_count": 50,
   "metadata": {},
   "outputs": [
    {
     "data": {
      "text/html": [
       "<div>\n",
       "<style scoped>\n",
       "    .dataframe tbody tr th:only-of-type {\n",
       "        vertical-align: middle;\n",
       "    }\n",
       "\n",
       "    .dataframe tbody tr th {\n",
       "        vertical-align: top;\n",
       "    }\n",
       "\n",
       "    .dataframe thead th {\n",
       "        text-align: right;\n",
       "    }\n",
       "</style>\n",
       "<table border=\"1\" class=\"dataframe\">\n",
       "  <thead>\n",
       "    <tr style=\"text-align: right;\">\n",
       "      <th></th>\n",
       "      <th>Avg. Area Income</th>\n",
       "      <th>Avg. Area House Age</th>\n",
       "      <th>Avg. Area Number of Rooms</th>\n",
       "      <th>Avg. Area Number of Bedrooms</th>\n",
       "      <th>Area Population</th>\n",
       "      <th>Price</th>\n",
       "      <th>Address</th>\n",
       "    </tr>\n",
       "  </thead>\n",
       "  <tbody>\n",
       "    <tr>\n",
       "      <th>0</th>\n",
       "      <td>79545.458574</td>\n",
       "      <td>5.682861</td>\n",
       "      <td>7.009188</td>\n",
       "      <td>4.09</td>\n",
       "      <td>23086.800503</td>\n",
       "      <td>1.059034e+06</td>\n",
       "      <td>208 Michael Ferry Apt. 674\\nLaurabury, NE 3701...</td>\n",
       "    </tr>\n",
       "    <tr>\n",
       "      <th>1</th>\n",
       "      <td>79248.642455</td>\n",
       "      <td>6.002900</td>\n",
       "      <td>6.730821</td>\n",
       "      <td>3.09</td>\n",
       "      <td>40173.072174</td>\n",
       "      <td>1.505891e+06</td>\n",
       "      <td>188 Johnson Views Suite 079\\nLake Kathleen, CA...</td>\n",
       "    </tr>\n",
       "    <tr>\n",
       "      <th>2</th>\n",
       "      <td>61287.067179</td>\n",
       "      <td>5.865890</td>\n",
       "      <td>8.512727</td>\n",
       "      <td>5.13</td>\n",
       "      <td>36882.159400</td>\n",
       "      <td>1.058988e+06</td>\n",
       "      <td>9127 Elizabeth Stravenue\\nDanieltown, WI 06482...</td>\n",
       "    </tr>\n",
       "    <tr>\n",
       "      <th>3</th>\n",
       "      <td>63345.240046</td>\n",
       "      <td>7.188236</td>\n",
       "      <td>5.586729</td>\n",
       "      <td>3.26</td>\n",
       "      <td>34310.242831</td>\n",
       "      <td>1.260617e+06</td>\n",
       "      <td>USS Barnett\\nFPO AP 44820</td>\n",
       "    </tr>\n",
       "    <tr>\n",
       "      <th>4</th>\n",
       "      <td>59982.197226</td>\n",
       "      <td>5.040555</td>\n",
       "      <td>7.839388</td>\n",
       "      <td>4.23</td>\n",
       "      <td>26354.109472</td>\n",
       "      <td>6.309435e+05</td>\n",
       "      <td>USNS Raymond\\nFPO AE 09386</td>\n",
       "    </tr>\n",
       "  </tbody>\n",
       "</table>\n",
       "</div>"
      ],
      "text/plain": [
       "   Avg. Area Income  Avg. Area House Age  Avg. Area Number of Rooms  \\\n",
       "0      79545.458574             5.682861                   7.009188   \n",
       "1      79248.642455             6.002900                   6.730821   \n",
       "2      61287.067179             5.865890                   8.512727   \n",
       "3      63345.240046             7.188236                   5.586729   \n",
       "4      59982.197226             5.040555                   7.839388   \n",
       "\n",
       "   Avg. Area Number of Bedrooms  Area Population         Price  \\\n",
       "0                          4.09     23086.800503  1.059034e+06   \n",
       "1                          3.09     40173.072174  1.505891e+06   \n",
       "2                          5.13     36882.159400  1.058988e+06   \n",
       "3                          3.26     34310.242831  1.260617e+06   \n",
       "4                          4.23     26354.109472  6.309435e+05   \n",
       "\n",
       "                                             Address  \n",
       "0  208 Michael Ferry Apt. 674\\nLaurabury, NE 3701...  \n",
       "1  188 Johnson Views Suite 079\\nLake Kathleen, CA...  \n",
       "2  9127 Elizabeth Stravenue\\nDanieltown, WI 06482...  \n",
       "3                          USS Barnett\\nFPO AP 44820  \n",
       "4                         USNS Raymond\\nFPO AE 09386  "
      ]
     },
     "execution_count": 50,
     "metadata": {},
     "output_type": "execute_result"
    }
   ],
   "source": [
    "df.head()"
   ]
  },
  {
   "cell_type": "code",
   "execution_count": 51,
   "metadata": {},
   "outputs": [
    {
     "name": "stdout",
     "output_type": "stream",
     "text": [
      "<class 'pandas.core.frame.DataFrame'>\n",
      "RangeIndex: 5000 entries, 0 to 4999\n",
      "Data columns (total 7 columns):\n",
      " #   Column                        Non-Null Count  Dtype  \n",
      "---  ------                        --------------  -----  \n",
      " 0   Avg. Area Income              5000 non-null   float64\n",
      " 1   Avg. Area House Age           5000 non-null   float64\n",
      " 2   Avg. Area Number of Rooms     5000 non-null   float64\n",
      " 3   Avg. Area Number of Bedrooms  5000 non-null   float64\n",
      " 4   Area Population               5000 non-null   float64\n",
      " 5   Price                         5000 non-null   float64\n",
      " 6   Address                       5000 non-null   object \n",
      "dtypes: float64(6), object(1)\n",
      "memory usage: 273.6+ KB\n",
      "None\n",
      "       Avg. Area Income  Avg. Area House Age  Avg. Area Number of Rooms  \\\n",
      "count       5000.000000          5000.000000                5000.000000   \n",
      "mean       68583.108984             5.977222                   6.987792   \n",
      "std        10657.991214             0.991456                   1.005833   \n",
      "min        17796.631190             2.644304                   3.236194   \n",
      "25%        61480.562388             5.322283                   6.299250   \n",
      "50%        68804.286404             5.970429                   7.002902   \n",
      "75%        75783.338666             6.650808                   7.665871   \n",
      "max       107701.748378             9.519088                  10.759588   \n",
      "\n",
      "       Avg. Area Number of Bedrooms  Area Population         Price  \n",
      "count                   5000.000000      5000.000000  5.000000e+03  \n",
      "mean                       3.981330     36163.516039  1.232073e+06  \n",
      "std                        1.234137      9925.650114  3.531176e+05  \n",
      "min                        2.000000       172.610686  1.593866e+04  \n",
      "25%                        3.140000     29403.928702  9.975771e+05  \n",
      "50%                        4.050000     36199.406689  1.232669e+06  \n",
      "75%                        4.490000     42861.290769  1.471210e+06  \n",
      "max                        6.500000     69621.713378  2.469066e+06  \n"
     ]
    }
   ],
   "source": [
    "print(df.info())\n",
    "print(df.describe())"
   ]
  },
  {
   "cell_type": "code",
   "execution_count": 69,
   "metadata": {},
   "outputs": [],
   "source": [
    "from sklearn.preprocessing import StandardScaler\n",
    "from sklearn.model_selection import train_test_split, KFold,cross_val_score\n",
    "from sklearn.linear_model import LassoCV, Lasso\n",
    "from sklearn.metrics import accuracy_score\n",
    "from sklearn.feature_selection import SelectFromModel"
   ]
  },
  {
   "cell_type": "code",
   "execution_count": 53,
   "metadata": {},
   "outputs": [
    {
     "data": {
      "text/plain": [
       "array([[ 1.02865969, -0.29692705,  0.02127433,  0.08806222, -1.31759867],\n",
       "       [ 1.00080775,  0.02590164, -0.25550611, -0.72230146,  0.40399945],\n",
       "       [-0.68462916, -0.11230283,  1.5162435 ,  0.93084045,  0.07240989],\n",
       "       ...,\n",
       "       [-0.48723454,  1.28447022, -2.17026949, -1.50025059, -0.29193658],\n",
       "       [-0.05459152, -0.44669439,  0.14154061,  1.18205319,  0.65111608],\n",
       "       [-0.28831272,  0.01521477, -0.19434166,  0.07185495,  1.04162464]])"
      ]
     },
     "execution_count": 53,
     "metadata": {},
     "output_type": "execute_result"
    }
   ],
   "source": [
    "X = df.drop(labels=['Address','Price'], axis=1)\n",
    "y = df['Price']\n",
    "\n",
    "Std_scaler = StandardScaler()\n",
    "Std_scaler.fit_transform(X)"
   ]
  },
  {
   "cell_type": "code",
   "execution_count": 54,
   "metadata": {},
   "outputs": [],
   "source": [
    "X_train, X_test, y_train, y_test = train_test_split(X, y, test_size=0.70, random_state=42)"
   ]
  },
  {
   "cell_type": "code",
   "execution_count": 68,
   "metadata": {},
   "outputs": [
    {
     "name": "stdout",
     "output_type": "stream",
     "text": [
      "0.2 0.9203329396453619\n",
      "5 0.9203425556190001\n",
      "10 0.9203443251592331\n",
      "100 0.9200610275522466\n",
      "1000 0.8799797218609298\n",
      "10\n",
      "for fold 1 accuracy is 0.9149620703389357\n",
      "for fold 2 accuracy is 0.9179740766175635\n",
      "for fold 3 accuracy is 0.9124763825029147\n",
      "for fold 4 accuracy is 0.9198696422638394\n",
      "for fold 5 accuracy is 0.9330529617359891\n",
      "for fold 6 accuracy is 0.9114663837218855\n",
      "for fold 7 accuracy is 0.905078691954498\n",
      "for fold 8 accuracy is 0.9277957724233118\n",
      "for fold 9 accuracy is 0.9269641667699355\n",
      "for fold 10 accuracy is 0.9336892481247464\n",
      "Mean Accuracy for alpha 0.2 is 0.9203329396453619 \n",
      "10\n",
      "for fold 1 accuracy is 0.9151315867711134\n",
      "for fold 2 accuracy is 0.9180800723716341\n",
      "for fold 3 accuracy is 0.9124522629443093\n",
      "for fold 4 accuracy is 0.919775475776901\n",
      "for fold 5 accuracy is 0.9330414227149849\n",
      "for fold 6 accuracy is 0.9115142765690347\n",
      "for fold 7 accuracy is 0.9050527524947868\n",
      "for fold 8 accuracy is 0.9277981409497575\n",
      "for fold 9 accuracy is 0.9269225286511522\n",
      "for fold 10 accuracy is 0.9336570369463276\n",
      "Mean Accuracy for alpha 5 is 0.920337747632181 \n",
      "10\n",
      "for fold 1 accuracy is 0.9153055567141449\n",
      "for fold 2 accuracy is 0.9181881400631222\n",
      "for fold 3 accuracy is 0.9124249521949421\n",
      "for fold 4 accuracy is 0.9196759306423188\n",
      "for fold 5 accuracy is 0.9330268910749624\n",
      "for fold 6 accuracy is 0.911501378269247\n",
      "for fold 7 accuracy is 0.9050234793561329\n",
      "for fold 8 accuracy is 0.9277983635966932\n",
      "for fold 9 accuracy is 0.9268775665123334\n",
      "for fold 10 accuracy is 0.933620993168434\n",
      "Mean Accuracy for alpha 10 is 0.9203399401411984 \n",
      "10\n",
      "for fold 1 accuracy is 0.9180025612486413\n",
      "for fold 2 accuracy is 0.9197449048936084\n",
      "for fold 3 accuracy is 0.9116810872794388\n",
      "for fold 4 accuracy is 0.917666670594597\n",
      "for fold 5 accuracy is 0.9325574008850734\n",
      "for fold 6 accuracy is 0.9109219732870748\n",
      "for fold 7 accuracy is 0.9041677826488393\n",
      "for fold 8 accuracy is 0.9274026186578788\n",
      "for fold 9 accuracy is 0.9257722441672714\n",
      "for fold 10 accuracy is 0.9326930318600447\n",
      "Mean Accuracy for alpha 100 is 0.9202702119939603 \n",
      "10\n",
      "for fold 1 accuracy is 0.8975882005935133\n",
      "for fold 2 accuracy is 0.8928986869343135\n",
      "for fold 3 accuracy is 0.8686853122845247\n",
      "for fold 4 accuracy is 0.8651047951652681\n",
      "for fold 5 accuracy is 0.8916888796539599\n",
      "for fold 6 accuracy is 0.8689416012990795\n",
      "for fold 7 accuracy is 0.85774104978127\n",
      "for fold 8 accuracy is 0.8878459969056348\n",
      "for fold 9 accuracy is 0.8818512697356686\n",
      "for fold 10 accuracy is 0.8874514262560642\n",
      "Mean Accuracy for alpha 1000 is 0.9122121139673542 \n"
     ]
    }
   ],
   "source": [
    "alpha = [0.2,5,10,100,1000]\n",
    "outcome = []\n",
    "for i in alpha:\n",
    "    model = Lasso(alpha=i,normalize=True)\n",
    "    model.fit(X_train,y_train)\n",
    "    cross_score = cross_val_score(model,X_train,y_train, cv=10)\n",
    "    print(i, cross_score.mean())\n",
    "    \n",
    "for i in alpha:\n",
    "    fold = 0\n",
    "    kf =KFold(n_splits=10)\n",
    "    clf = Lasso(alpha=i, normalize=True)\n",
    "    print(kf.get_n_splits(X_train))\n",
    "    for train_index, test_index in kf.split(X_train):\n",
    "        fold += 1\n",
    "        X_KFtrain,X_KFtest = X_train.values[train_index], X_train.values[test_index]\n",
    "        y_KFtrain,y_KFtest = y_train.values[train_index], y_train.values[test_index]\n",
    "        clf.fit(X_KFtrain, y_KFtrain)\n",
    "        preds = clf.predict(X_KFtest)\n",
    "        accur_score = clf.score(X_KFtest, y_KFtest)\n",
    "        print(\"for fold {} accuracy is {}\".format(fold, accur_score))\n",
    "        outcome.append(accur_score)\n",
    "    print(\"Mean Accuracy for alpha {} is {} \".format(i,np.mean(outcome)))"
   ]
  },
  {
   "cell_type": "code",
   "execution_count": null,
   "metadata": {},
   "outputs": [],
   "source": []
  },
  {
   "cell_type": "code",
   "execution_count": null,
   "metadata": {},
   "outputs": [],
   "source": []
  },
  {
   "cell_type": "code",
   "execution_count": null,
   "metadata": {},
   "outputs": [],
   "source": []
  },
  {
   "cell_type": "code",
   "execution_count": null,
   "metadata": {},
   "outputs": [],
   "source": []
  },
  {
   "cell_type": "code",
   "execution_count": null,
   "metadata": {},
   "outputs": [],
   "source": []
  }
 ],
 "metadata": {
  "kernelspec": {
   "display_name": "Python 3",
   "language": "python",
   "name": "python3"
  },
  "language_info": {
   "codemirror_mode": {
    "name": "ipython",
    "version": 3
   },
   "file_extension": ".py",
   "mimetype": "text/x-python",
   "name": "python",
   "nbconvert_exporter": "python",
   "pygments_lexer": "ipython3",
   "version": "3.8.5"
  }
 },
 "nbformat": 4,
 "nbformat_minor": 4
}
